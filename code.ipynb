{
 "cells": [
  {
   "cell_type": "code",
   "execution_count": 1,
   "id": "eb24c9f6",
   "metadata": {},
   "outputs": [
    {
     "name": "stdout",
     "output_type": "stream",
     "text": [
      "RF模型得分: 0.8656\n",
      "ADA模型得分: 0.7735\n",
      "GBDT模型得分: 0.8324\n",
      "EXC模型得分: 0.8932\n"
     ]
    }
   ],
   "source": [
    "import pandas as pd\n",
    "data=pd.read_csv('1D.csv')\n",
    "data.dropna(axis=1,inplace=True)\n",
    "x=data.drop(['Rating'],axis=1)\n",
    "y=data['Rating']\n",
    "from sklearn.model_selection import train_test_split\n",
    "x_train,x_test,y_train,y_test=train_test_split(x,y,test_size=0.25,random_state=66)\n",
    "from sklearn.ensemble import RandomForestClassifier,AdaBoostClassifier,GradientBoostingClassifier,ExtraTreesClassifier\n",
    "from sklearn.metrics import accuracy_score\n",
    "RF = RandomForestClassifier(random_state = 66)\n",
    "ADA=AdaBoostClassifier(random_state=66)\n",
    "GBDT=GradientBoostingClassifier(random_state=66)\n",
    "EXC=ExtraTreesClassifier(random_state=66)\n",
    "RF.fit(x_train, y_train)\n",
    "ADA.fit(x_train, y_train)\n",
    "GBDT.fit(x_train, y_train)\n",
    "EXC.fit(x_train, y_train)\n",
    "y_pre_rf=RF.predict(x_test)\n",
    "score_rf=accuracy_score(y_test,y_pre_rf)\n",
    "print('RF模型得分: %.4f'%score_rf)\n",
    "y_pre_ada=ADA.predict(x_test)\n",
    "score_ada=accuracy_score(y_test,y_pre_ada)\n",
    "print('ADA模型得分: %.4f'%score_ada)\n",
    "y_pre_gbdt=GBDT.predict(x_test)\n",
    "score_gbdt=accuracy_score(y_test,y_pre_gbdt)\n",
    "print('GBDT模型得分: %.4f'%score_gbdt)\n",
    "y_pre_exc=EXC.predict(x_test)\n",
    "score_exc=accuracy_score(y_test,y_pre_exc)\n",
    "print('EXC模型得分: %.4f'%score_exc)"
   ]
  },
  {
   "cell_type": "code",
   "execution_count": 2,
   "id": "d9a16371",
   "metadata": {},
   "outputs": [
    {
     "name": "stdout",
     "output_type": "stream",
     "text": [
      "RF模型得分: 0.7864\n",
      "ADA模型得分: 0.7238\n",
      "GBDT模型得分: 0.7827\n",
      "EXC模型得分: 0.7827\n"
     ]
    }
   ],
   "source": [
    "data=pd.read_csv('2D.csv')\n",
    "data.dropna(axis=1,inplace=True)\n",
    "x=data.drop(['Rating'],axis=1)\n",
    "y=data['Rating']\n",
    "x_train,x_test,y_train,y_test=train_test_split(x,y,test_size=0.25,random_state=66)\n",
    "RF = RandomForestClassifier(random_state = 66)\n",
    "ADA=AdaBoostClassifier(random_state=66)\n",
    "GBDT=GradientBoostingClassifier(random_state=66)\n",
    "EXC=ExtraTreesClassifier(random_state=66)\n",
    "RF.fit(x_train, y_train)\n",
    "ADA.fit(x_train, y_train)\n",
    "GBDT.fit(x_train, y_train)\n",
    "EXC.fit(x_train, y_train)\n",
    "y_pre_rf=RF.predict(x_test)\n",
    "score_rf=accuracy_score(y_test,y_pre_rf)\n",
    "print('RF模型得分: %.4f'%score_rf)\n",
    "y_pre_ada=ADA.predict(x_test)\n",
    "score_ada=accuracy_score(y_test,y_pre_ada)\n",
    "print('ADA模型得分: %.4f'%score_ada)\n",
    "y_pre_gbdt=GBDT.predict(x_test)\n",
    "score_gbdt=accuracy_score(y_test,y_pre_gbdt)\n",
    "print('GBDT模型得分: %.4f'%score_gbdt)\n",
    "y_pre_exc=EXC.predict(x_test)\n",
    "score_exc=accuracy_score(y_test,y_pre_exc)\n",
    "print('EXC模型得分: %.4f'%score_exc)"
   ]
  },
  {
   "cell_type": "code",
   "execution_count": 4,
   "id": "a0db6ea4",
   "metadata": {},
   "outputs": [
    {
     "name": "stdout",
     "output_type": "stream",
     "text": [
      "RF模型得分: 0.8766\n",
      "ADA模型得分: 0.7845\n",
      "GBDT模型得分: 0.8269\n",
      "EXC模型得分: 0.9153\n"
     ]
    }
   ],
   "source": [
    "data=pd.read_csv('SNV.csv')\n",
    "data.dropna(axis=1,inplace=True)\n",
    "x=data.drop(['Rating'],axis=1)\n",
    "y=data['Rating']\n",
    "x_train,x_test,y_train,y_test=train_test_split(x,y,test_size=0.25,random_state=66)\n",
    "RF = RandomForestClassifier(random_state = 66)\n",
    "ADA=AdaBoostClassifier(random_state=66)\n",
    "GBDT=GradientBoostingClassifier(random_state=66)\n",
    "EXC=ExtraTreesClassifier(random_state=66)\n",
    "RF.fit(x_train, y_train)\n",
    "ADA.fit(x_train, y_train)\n",
    "GBDT.fit(x_train, y_train)\n",
    "EXC.fit(x_train, y_train)\n",
    "y_pre_rf=RF.predict(x_test)\n",
    "score_rf=accuracy_score(y_test,y_pre_rf)\n",
    "print('RF模型得分: %.4f'%score_rf)\n",
    "y_pre_ada=ADA.predict(x_test)\n",
    "score_ada=accuracy_score(y_test,y_pre_ada)\n",
    "print('ADA模型得分: %.4f'%score_ada)\n",
    "y_pre_gbdt=GBDT.predict(x_test)\n",
    "score_gbdt=accuracy_score(y_test,y_pre_gbdt)\n",
    "print('GBDT模型得分: %.4f'%score_gbdt)\n",
    "y_pre_exc=EXC.predict(x_test)\n",
    "score_exc=accuracy_score(y_test,y_pre_exc)\n",
    "print('EXC模型得分: %.4f'%score_exc)"
   ]
  },
  {
   "cell_type": "code",
   "execution_count": 5,
   "id": "b00f8d0d",
   "metadata": {},
   "outputs": [
    {
     "name": "stdout",
     "output_type": "stream",
     "text": [
      "RF模型得分: 0.8692\n",
      "ADA模型得分: 0.7772\n",
      "GBDT模型得分: 0.8287\n",
      "EXC模型得分: 0.9116\n"
     ]
    }
   ],
   "source": [
    "data=pd.read_csv('MSC.csv')\n",
    "data.dropna(axis=1,inplace=True)\n",
    "x=data.drop(['Rating'],axis=1)\n",
    "y=data['Rating']\n",
    "x_train,x_test,y_train,y_test=train_test_split(x,y,test_size=0.25,random_state=66)\n",
    "RF = RandomForestClassifier(random_state = 66)\n",
    "ADA=AdaBoostClassifier(random_state=66)\n",
    "GBDT=GradientBoostingClassifier(random_state=66)\n",
    "EXC=ExtraTreesClassifier(random_state=66)\n",
    "RF.fit(x_train, y_train)\n",
    "ADA.fit(x_train, y_train)\n",
    "GBDT.fit(x_train, y_train)\n",
    "EXC.fit(x_train, y_train)\n",
    "y_pre_rf=RF.predict(x_test)\n",
    "score_rf=accuracy_score(y_test,y_pre_rf)\n",
    "print('RF模型得分: %.4f'%score_rf)\n",
    "y_pre_ada=ADA.predict(x_test)\n",
    "score_ada=accuracy_score(y_test,y_pre_ada)\n",
    "print('ADA模型得分: %.4f'%score_ada)\n",
    "y_pre_gbdt=GBDT.predict(x_test)\n",
    "score_gbdt=accuracy_score(y_test,y_pre_gbdt)\n",
    "print('GBDT模型得分: %.4f'%score_gbdt)\n",
    "y_pre_exc=EXC.predict(x_test)\n",
    "score_exc=accuracy_score(y_test,y_pre_exc)\n",
    "print('EXC模型得分: %.4f'%score_exc)"
   ]
  },
  {
   "cell_type": "code",
   "execution_count": 6,
   "id": "0630ecee",
   "metadata": {},
   "outputs": [
    {
     "name": "stdout",
     "output_type": "stream",
     "text": [
      "RF模型得分: 0.9576\n",
      "ADA模型得分: 0.7937\n",
      "GBDT模型得分: 0.8729\n",
      "EXC模型得分: 0.9797\n"
     ]
    }
   ],
   "source": [
    "data=pd.read_csv('SG.csv')\n",
    "data.dropna(axis=1,inplace=True)\n",
    "x=data.drop(['Rating'],axis=1)\n",
    "y=data['Rating']\n",
    "x_train,x_test,y_train,y_test=train_test_split(x,y,test_size=0.25,random_state=66)\n",
    "RF = RandomForestClassifier(random_state = 66)\n",
    "ADA=AdaBoostClassifier(random_state=66)\n",
    "GBDT=GradientBoostingClassifier(random_state=66)\n",
    "EXC=ExtraTreesClassifier(random_state=66)\n",
    "RF.fit(x_train, y_train)\n",
    "ADA.fit(x_train, y_train)\n",
    "GBDT.fit(x_train, y_train)\n",
    "EXC.fit(x_train, y_train)\n",
    "y_pre_rf=RF.predict(x_test)\n",
    "score_rf=accuracy_score(y_test,y_pre_rf)\n",
    "print('RF模型得分: %.4f'%score_rf)\n",
    "y_pre_ada=ADA.predict(x_test)\n",
    "score_ada=accuracy_score(y_test,y_pre_ada)\n",
    "print('ADA模型得分: %.4f'%score_ada)\n",
    "y_pre_gbdt=GBDT.predict(x_test)\n",
    "score_gbdt=accuracy_score(y_test,y_pre_gbdt)\n",
    "print('GBDT模型得分: %.4f'%score_gbdt)\n",
    "y_pre_exc=EXC.predict(x_test)\n",
    "score_exc=accuracy_score(y_test,y_pre_exc)\n",
    "print('EXC模型得分: %.4f'%score_exc)"
   ]
  },
  {
   "cell_type": "code",
   "execution_count": 7,
   "id": "6a1ca793",
   "metadata": {},
   "outputs": [
    {
     "name": "stdout",
     "output_type": "stream",
     "text": [
      "RF模型得分: 0.9171\n",
      "ADA模型得分: 0.7919\n",
      "GBDT模型得分: 0.8656\n",
      "EXC模型得分: 0.9669\n"
     ]
    }
   ],
   "source": [
    "data=pd.read_csv('SNV-1D-SG.csv')\n",
    "data.dropna(axis=1,inplace=True)\n",
    "x=data.drop(['Rating'],axis=1)\n",
    "y=data['Rating']\n",
    "x_train,x_test,y_train,y_test=train_test_split(x,y,test_size=0.25,random_state=66)\n",
    "RF = RandomForestClassifier(random_state = 66)\n",
    "ADA=AdaBoostClassifier(random_state=66)\n",
    "GBDT=GradientBoostingClassifier(random_state=66)\n",
    "EXC=ExtraTreesClassifier(random_state=66)\n",
    "RF.fit(x_train, y_train)\n",
    "ADA.fit(x_train, y_train)\n",
    "GBDT.fit(x_train, y_train)\n",
    "EXC.fit(x_train, y_train)\n",
    "y_pre_rf=RF.predict(x_test)\n",
    "score_rf=accuracy_score(y_test,y_pre_rf)\n",
    "print('RF模型得分: %.4f'%score_rf)\n",
    "y_pre_ada=ADA.predict(x_test)\n",
    "score_ada=accuracy_score(y_test,y_pre_ada)\n",
    "print('ADA模型得分: %.4f'%score_ada)\n",
    "y_pre_gbdt=GBDT.predict(x_test)\n",
    "score_gbdt=accuracy_score(y_test,y_pre_gbdt)\n",
    "print('GBDT模型得分: %.4f'%score_gbdt)\n",
    "y_pre_exc=EXC.predict(x_test)\n",
    "score_exc=accuracy_score(y_test,y_pre_exc)\n",
    "print('EXC模型得分: %.4f'%score_exc)"
   ]
  },
  {
   "cell_type": "code",
   "execution_count": 8,
   "id": "29605c6c",
   "metadata": {},
   "outputs": [
    {
     "name": "stdout",
     "output_type": "stream",
     "text": [
      "RF模型得分: 0.9245\n",
      "ADA模型得分: 0.7882\n",
      "GBDT模型得分: 0.8674\n",
      "EXC模型得分: 0.9613\n"
     ]
    }
   ],
   "source": [
    "data=pd.read_csv('SNV-2D-SG.csv')\n",
    "data.dropna(axis=1,inplace=True)\n",
    "x=data.drop(['Rating'],axis=1)\n",
    "y=data['Rating']\n",
    "x_train,x_test,y_train,y_test=train_test_split(x,y,test_size=0.25,random_state=66)\n",
    "RF = RandomForestClassifier(random_state = 66)\n",
    "ADA=AdaBoostClassifier(random_state=66)\n",
    "GBDT=GradientBoostingClassifier(random_state=66)\n",
    "EXC=ExtraTreesClassifier(random_state=66)\n",
    "RF.fit(x_train, y_train)\n",
    "ADA.fit(x_train, y_train)\n",
    "GBDT.fit(x_train, y_train)\n",
    "EXC.fit(x_train, y_train)\n",
    "y_pre_rf=RF.predict(x_test)\n",
    "score_rf=accuracy_score(y_test,y_pre_rf)\n",
    "print('RF模型得分: %.4f'%score_rf)\n",
    "y_pre_ada=ADA.predict(x_test)\n",
    "score_ada=accuracy_score(y_test,y_pre_ada)\n",
    "print('ADA模型得分: %.4f'%score_ada)\n",
    "y_pre_gbdt=GBDT.predict(x_test)\n",
    "score_gbdt=accuracy_score(y_test,y_pre_gbdt)\n",
    "print('GBDT模型得分: %.4f'%score_gbdt)\n",
    "y_pre_exc=EXC.predict(x_test)\n",
    "score_exc=accuracy_score(y_test,y_pre_exc)\n",
    "print('EXC模型得分: %.4f'%score_exc)"
   ]
  },
  {
   "cell_type": "code",
   "execution_count": 9,
   "id": "2b79efaa",
   "metadata": {},
   "outputs": [
    {
     "name": "stdout",
     "output_type": "stream",
     "text": [
      "RF模型得分: 0.8758\n",
      "ADA模型得分: 0.8149\n",
      "GBDT模型得分: 0.8600\n",
      "EXC模型得分: 0.9210\n"
     ]
    }
   ],
   "source": [
    "data=pd.read_csv('MSC-1D-SG.csv')\n",
    "data.dropna(axis=1,inplace=True)\n",
    "x=data.drop(['Rating'],axis=1)\n",
    "y=data['Rating']\n",
    "x_train,x_test,y_train,y_test=train_test_split(x,y,test_size=0.25,random_state=66)\n",
    "RF = RandomForestClassifier(random_state = 66)\n",
    "ADA=AdaBoostClassifier(random_state=66)\n",
    "GBDT=GradientBoostingClassifier(random_state=66)\n",
    "EXC=ExtraTreesClassifier(random_state=66)\n",
    "RF.fit(x_train, y_train)\n",
    "ADA.fit(x_train, y_train)\n",
    "GBDT.fit(x_train, y_train)\n",
    "EXC.fit(x_train, y_train)\n",
    "y_pre_rf=RF.predict(x_test)\n",
    "score_rf=accuracy_score(y_test,y_pre_rf)\n",
    "print('RF模型得分: %.4f'%score_rf)\n",
    "y_pre_ada=ADA.predict(x_test)\n",
    "score_ada=accuracy_score(y_test,y_pre_ada)\n",
    "print('ADA模型得分: %.4f'%score_ada)\n",
    "y_pre_gbdt=GBDT.predict(x_test)\n",
    "score_gbdt=accuracy_score(y_test,y_pre_gbdt)\n",
    "print('GBDT模型得分: %.4f'%score_gbdt)\n",
    "y_pre_exc=EXC.predict(x_test)\n",
    "score_exc=accuracy_score(y_test,y_pre_exc)\n",
    "print('EXC模型得分: %.4f'%score_exc)"
   ]
  },
  {
   "cell_type": "code",
   "execution_count": 10,
   "id": "dcab6cf1",
   "metadata": {},
   "outputs": [
    {
     "name": "stdout",
     "output_type": "stream",
     "text": [
      "RF模型得分: 0.7923\n",
      "ADA模型得分: 0.7246\n",
      "GBDT模型得分: 0.7562\n",
      "EXC模型得分: 0.8014\n"
     ]
    }
   ],
   "source": [
    "data=pd.read_csv('MSC-2D-SG.csv')\n",
    "data.dropna(axis=1,inplace=True)\n",
    "x=data.drop(['Rating'],axis=1)\n",
    "y=data['Rating']\n",
    "x_train,x_test,y_train,y_test=train_test_split(x,y,test_size=0.25,random_state=66)\n",
    "RF = RandomForestClassifier(random_state = 66)\n",
    "ADA=AdaBoostClassifier(random_state=66)\n",
    "GBDT=GradientBoostingClassifier(random_state=66)\n",
    "EXC=ExtraTreesClassifier(random_state=66)\n",
    "RF.fit(x_train, y_train)\n",
    "ADA.fit(x_train, y_train)\n",
    "GBDT.fit(x_train, y_train)\n",
    "EXC.fit(x_train, y_train)\n",
    "y_pre_rf=RF.predict(x_test)\n",
    "score_rf=accuracy_score(y_test,y_pre_rf)\n",
    "print('RF模型得分: %.4f'%score_rf)\n",
    "y_pre_ada=ADA.predict(x_test)\n",
    "score_ada=accuracy_score(y_test,y_pre_ada)\n",
    "print('ADA模型得分: %.4f'%score_ada)\n",
    "y_pre_gbdt=GBDT.predict(x_test)\n",
    "score_gbdt=accuracy_score(y_test,y_pre_gbdt)\n",
    "print('GBDT模型得分: %.4f'%score_gbdt)\n",
    "y_pre_exc=EXC.predict(x_test)\n",
    "score_exc=accuracy_score(y_test,y_pre_exc)\n",
    "print('EXC模型得分: %.4f'%score_exc)"
   ]
  },
  {
   "cell_type": "code",
   "execution_count": 11,
   "id": "9186e436",
   "metadata": {},
   "outputs": [
    {
     "name": "stdout",
     "output_type": "stream",
     "text": [
      "RF模型得分: 0.9481\n",
      "ADA模型得分: 0.8008\n",
      "GBDT模型得分: 0.8465\n",
      "EXC模型得分: 0.9813\n"
     ]
    }
   ],
   "source": [
    "data=pd.read_csv('raw.csv')\n",
    "data.dropna(axis=1,inplace=True)\n",
    "x=data.drop(['Rating'],axis=1)\n",
    "y=data['Rating']\n",
    "x_train,x_test,y_train,y_test=train_test_split(x,y,test_size=0.25,random_state=66)\n",
    "RF = RandomForestClassifier(random_state = 66)\n",
    "ADA=AdaBoostClassifier(random_state=66)\n",
    "GBDT=GradientBoostingClassifier(random_state=66)\n",
    "EXC=ExtraTreesClassifier(random_state=66)\n",
    "RF.fit(x_train, y_train)\n",
    "ADA.fit(x_train, y_train)\n",
    "GBDT.fit(x_train, y_train)\n",
    "EXC.fit(x_train, y_train)\n",
    "y_pre_rf=RF.predict(x_test)\n",
    "score_rf=accuracy_score(y_test,y_pre_rf)\n",
    "print('RF模型得分: %.4f'%score_rf)\n",
    "y_pre_ada=ADA.predict(x_test)\n",
    "score_ada=accuracy_score(y_test,y_pre_ada)\n",
    "print('ADA模型得分: %.4f'%score_ada)\n",
    "y_pre_gbdt=GBDT.predict(x_test)\n",
    "score_gbdt=accuracy_score(y_test,y_pre_gbdt)\n",
    "print('GBDT模型得分: %.4f'%score_gbdt)\n",
    "y_pre_exc=EXC.predict(x_test)\n",
    "score_exc=accuracy_score(y_test,y_pre_exc)\n",
    "print('EXC模型得分: %.4f'%score_exc)"
   ]
  },
  {
   "cell_type": "code",
   "execution_count": null,
   "id": "b610bc65",
   "metadata": {},
   "outputs": [],
   "source": []
  },
  {
   "cell_type": "code",
   "execution_count": 12,
   "id": "294096e5",
   "metadata": {},
   "outputs": [],
   "source": [
    "import pandas as pd\n",
    "from sklearn.model_selection import train_test_split\n",
    "data=pd.read_csv('SG.csv')\n",
    "data.dropna(axis=1,inplace=True)\n",
    "x=data.drop(['Rating'],axis=1)\n",
    "y=data['Rating']\n",
    "x_train,x_test,y_train,y_test=train_test_split(x,y,test_size=0.25,random_state=66)"
   ]
  },
  {
   "cell_type": "code",
   "execution_count": 16,
   "id": "1ed98c52",
   "metadata": {},
   "outputs": [
    {
     "name": "stdout",
     "output_type": "stream",
     "text": [
      "最优参数以及最高得分: [100.           0.95764273]\n"
     ]
    }
   ],
   "source": [
    "import numpy as np\n",
    "ScoreAll = []\n",
    "for i in range(10,200,10):\n",
    "    RF = RandomForestClassifier(n_estimators = i,random_state = 66)\n",
    "    RF.fit(x_train, y_train)\n",
    "    y_pre_rf=RF.predict(x_test)\n",
    "    score=accuracy_score(y_test,y_pre_rf)\n",
    "    ScoreAll.append([i,score])\n",
    "ScoreAll = np.array(ScoreAll)\n",
    "\n",
    "max_score = np.where(ScoreAll==np.max(ScoreAll[:,1]))[0][0]\n",
    "print(\"最优参数以及最高得分:\",ScoreAll[max_score])"
   ]
  },
  {
   "cell_type": "code",
   "execution_count": 17,
   "id": "bd98b8ec",
   "metadata": {},
   "outputs": [
    {
     "data": {
      "image/png": "[encoded data removed]",
      "text/plain": [
       "<Figure size 1440x360 with 1 Axes>"
      ]
     },
     "metadata": {
      "needs_background": "light"
     },
     "output_type": "display_data"
    }
   ],
   "source": [
    "import matplotlib.pyplot as plt\n",
    "import seaborn as sns\n",
    "plt.figure(figsize=[20,5])\n",
    "plt.plot(ScoreAll[:,0],ScoreAll[:,1])\n",
    "#plt.savefig(r'D:\\2.1.png', dpi=300,bbox_inches='tight')\n",
    "plt.show()"
   ]
  },
  {
   "cell_type": "code",
   "execution_count": 18,
   "id": "0c6e4b6c",
   "metadata": {},
   "outputs": [
    {
     "name": "stdout",
     "output_type": "stream",
     "text": [
      "最优参数以及最高得分: [17.          0.95948435]\n"
     ]
    }
   ],
   "source": [
    "ScoreAll = []\n",
    "for i in range(10,30):\n",
    "    RF = RandomForestClassifier(n_estimators = 100,random_state = 66,max_depth =i )\n",
    "    RF.fit(x_train, y_train)\n",
    "    y_pre_rf=RF.predict(x_test)\n",
    "    score=accuracy_score(y_test,y_pre_rf)\n",
    "    ScoreAll.append([i,score])\n",
    "ScoreAll = np.array(ScoreAll)\n",
    "\n",
    "max_score = np.where(ScoreAll==np.max(ScoreAll[:,1]))[0][0]\n",
    "print(\"最优参数以及最高得分:\",ScoreAll[max_score])"
   ]
  },
  {
   "cell_type": "code",
   "execution_count": 19,
   "id": "2b2d8533",
   "metadata": {},
   "outputs": [
    {
     "data": {
      "image/png": "[encoded data removed]",
      "text/plain": [
       "<Figure size 1440x360 with 1 Axes>"
      ]
     },
     "metadata": {
      "needs_background": "light"
     },
     "output_type": "display_data"
    }
   ],
   "source": [
    "plt.figure(figsize=[20,5])\n",
    "plt.plot(ScoreAll[:,0],ScoreAll[:,1])\n",
    "#plt.savefig(r'D:\\2.2.png', dpi=300,bbox_inches='tight')\n",
    "plt.show()"
   ]
  },
  {
   "cell_type": "code",
   "execution_count": 21,
   "id": "e73b2d44",
   "metadata": {},
   "outputs": [
    {
     "name": "stdout",
     "output_type": "stream",
     "text": [
      "              precision    recall  f1-score   support\n",
      "\n",
      "           0       0.96      0.89      0.93       152\n",
      "           1       0.96      0.98      0.97       391\n",
      "\n",
      "    accuracy                           0.96       543\n",
      "   macro avg       0.96      0.94      0.95       543\n",
      "weighted avg       0.96      0.96      0.96       543\n",
      "\n"
     ]
    }
   ],
   "source": [
    "from sklearn.metrics import classification_report,roc_auc_score,roc_curve,auc,matthews_corrcoef\n",
    "RF = RandomForestClassifier(n_estimators = 100,max_depth = 17,min_samples_leaf = 1,min_samples_split = 2,random_state = 66)\n",
    "RF.fit(x_train,y_train)\n",
    "y_pre=RF.predict(x_test)\n",
    "res=classification_report(y_true=y_test,y_pred=y_pre,labels=(0,1))\n",
    "print(res)"
   ]
  },
  {
   "cell_type": "code",
   "execution_count": 2,
   "id": "965aacc1",
   "metadata": {},
   "outputs": [
    {
     "data": {
      "image/png": "[encoded data removed]",
      "text/plain": [
       "<Figure size 432x288 with 2 Axes>"
      ]
     },
     "metadata": {
      "needs_background": "light"
     },
     "output_type": "display_data"
    }
   ],
   "source": [
    "import numpy as np\n",
    "import matplotlib.pyplot as plt\n",
    "confusion = np.array(([0.96,0.89,0.93],[0.96,0.98,0.97]))\n",
    "plt.imshow(confusion, cmap=plt.cm.BuPu_r,vmin=0.60,vmax=1)\n",
    "\n",
    "indices_x = range(3)\n",
    "indices_y=range(2)\n",
    "\n",
    "plt.xticks(indices_x, ['precision', 'recall', 'f1-score'])\n",
    "plt.yticks(indices_y, ['0', '1'])\n",
    "\n",
    "plt.colorbar()\n",
    "\n",
    "plt.xlabel('Measures')\n",
    "plt.ylabel('Classes')\n",
    "plt.title('Classification report_RF')\n",
    "\n",
    "for first_index in range(len(confusion)):    \n",
    "    for second_index in range(len(confusion[first_index])):    \n",
    "        plt.text(second_index,first_index,confusion[first_index][second_index])\n",
    "\n",
    "#plt.savefig(r'D:\\11.png', dpi=600,bbox_inches='tight')\n",
    "plt.show()"
   ]
  },
  {
   "cell_type": "code",
   "execution_count": 23,
   "id": "495176fe",
   "metadata": {},
   "outputs": [
    {
     "data": {
      "text/plain": [
       "0.9875572082379862"
      ]
     },
     "execution_count": 23,
     "metadata": {},
     "output_type": "execute_result"
    }
   ],
   "source": [
    "y_score_rf = RF.fit(x_train, y_train).predict_proba(x_test)\n",
    "roc_auc_score(y_test,y_score_rf[:, 1]) "
   ]
  },
  {
   "cell_type": "code",
   "execution_count": 24,
   "id": "a9c4de6f",
   "metadata": {},
   "outputs": [
    {
     "data": {
      "text/plain": [
       "0.8984131789138063"
      ]
     },
     "execution_count": 24,
     "metadata": {},
     "output_type": "execute_result"
    }
   ],
   "source": [
    "matthews_corrcoef(y_test,y_pre) "
   ]
  },
  {
   "cell_type": "code",
   "execution_count": null,
   "id": "ff3dbb1b",
   "metadata": {},
   "outputs": [],
   "source": []
  },
  {
   "cell_type": "code",
   "execution_count": 26,
   "id": "253d8d98",
   "metadata": {},
   "outputs": [
    {
     "name": "stdout",
     "output_type": "stream",
     "text": [
      "              precision    recall  f1-score   support\n",
      "\n",
      "           0       0.96      0.89      0.92       152\n",
      "           1       0.96      0.98      0.97       391\n",
      "\n",
      "    accuracy                           0.96       543\n",
      "   macro avg       0.96      0.94      0.95       543\n",
      "weighted avg       0.96      0.96      0.96       543\n",
      "\n"
     ]
    }
   ],
   "source": [
    "from sklearn.ensemble import RandomForestClassifier,AdaBoostClassifier,GradientBoostingClassifier,ExtraTreesClassifier\n",
    "from sklearn.metrics import classification_report,roc_auc_score,roc_curve,auc,matthews_corrcoef\n",
    "RF = RandomForestClassifier(random_state = 66)\n",
    "RF.fit(x_train,y_train)\n",
    "y_pre=RF.predict(x_test)\n",
    "res=classification_report(y_true=y_test,y_pred=y_pre,labels=(0,1))\n",
    "print(res)"
   ]
  },
  {
   "cell_type": "code",
   "execution_count": 27,
   "id": "40341a2b",
   "metadata": {},
   "outputs": [
    {
     "data": {
      "text/plain": [
       "0.9883564409745591"
      ]
     },
     "execution_count": 27,
     "metadata": {},
     "output_type": "execute_result"
    }
   ],
   "source": [
    "y_score_rf = RF.fit(x_train, y_train).predict_proba(x_test)\n",
    "roc_auc_score(y_test,y_score_rf[:, 1])"
   ]
  },
  {
   "cell_type": "code",
   "execution_count": 28,
   "id": "8f0d69e0",
   "metadata": {},
   "outputs": [
    {
     "data": {
      "text/plain": [
       "0.8937346791402785"
      ]
     },
     "execution_count": 28,
     "metadata": {},
     "output_type": "execute_result"
    }
   ],
   "source": [
    "matthews_corrcoef(y_test,y_pre)"
   ]
  },
  {
   "cell_type": "code",
   "execution_count": null,
   "id": "475c632d",
   "metadata": {},
   "outputs": [],
   "source": []
  },
  {
   "cell_type": "code",
   "execution_count": null,
   "id": "06dcde3e",
   "metadata": {},
   "outputs": [],
   "source": []
  },
  {
   "cell_type": "code",
   "execution_count": null,
   "id": "60644434",
   "metadata": {},
   "outputs": [],
   "source": []
  },
  {
   "cell_type": "code",
   "execution_count": 29,
   "id": "1c20bbcc",
   "metadata": {},
   "outputs": [
    {
     "name": "stdout",
     "output_type": "stream",
     "text": [
      "最优参数以及最高得分: [50.          0.98158379]\n"
     ]
    }
   ],
   "source": [
    "ScoreAll = []\n",
    "for i in range(50,300,10):\n",
    "    ET=ExtraTreesClassifier(n_estimators = i, random_state=66)\n",
    "    ET.fit(x_train, y_train)\n",
    "    y_pre_et=ET.predict(x_test)\n",
    "    score=accuracy_score(y_test,y_pre_et)\n",
    "    ScoreAll.append([i,score])\n",
    "ScoreAll = np.array(ScoreAll)\n",
    "\n",
    "max_score = np.where(ScoreAll==np.max(ScoreAll[:,1]))[0][0] \n",
    "print(\"最优参数以及最高得分:\",ScoreAll[max_score])"
   ]
  },
  {
   "cell_type": "code",
   "execution_count": 30,
   "id": "cadbdf5c",
   "metadata": {},
   "outputs": [
    {
     "data": {
      "image/png": "[encoded data removed]",
      "text/plain": [
       "<Figure size 1440x360 with 1 Axes>"
      ]
     },
     "metadata": {
      "needs_background": "light"
     },
     "output_type": "display_data"
    }
   ],
   "source": [
    "plt.figure(figsize=[20,5])\n",
    "plt.plot(ScoreAll[:,0],ScoreAll[:,1])\n",
    "#plt.savefig(r'D:\\3.1.png', dpi=300,bbox_inches='tight')\n",
    "plt.show()"
   ]
  },
  {
   "cell_type": "code",
   "execution_count": 31,
   "id": "9934c90b",
   "metadata": {},
   "outputs": [
    {
     "name": "stdout",
     "output_type": "stream",
     "text": [
      "最优参数以及最高得分: [19.          0.98342541]\n"
     ]
    }
   ],
   "source": [
    "ScoreAll = []\n",
    "for i in range(10,30):\n",
    "    ET=ExtraTreesClassifier(n_estimators = 50, random_state=66,max_depth =i)\n",
    "    ET.fit(x_train, y_train)\n",
    "    y_pre_et=ET.predict(x_test)\n",
    "    score=accuracy_score(y_test,y_pre_et)\n",
    "    ScoreAll.append([i,score])\n",
    "ScoreAll = np.array(ScoreAll)\n",
    "\n",
    "max_score = np.where(ScoreAll==np.max(ScoreAll[:,1]))[0][0]\n",
    "print(\"最优参数以及最高得分:\",ScoreAll[max_score])"
   ]
  },
  {
   "cell_type": "code",
   "execution_count": 32,
   "id": "ff55a80d",
   "metadata": {},
   "outputs": [
    {
     "data": {
      "image/png": "[encoded data removed]",
      "text/plain": [
       "<Figure size 1440x360 with 1 Axes>"
      ]
     },
     "metadata": {
      "needs_background": "light"
     },
     "output_type": "display_data"
    }
   ],
   "source": [
    "plt.figure(figsize=[20,5])\n",
    "plt.plot(ScoreAll[:,0],ScoreAll[:,1])\n",
    "#plt.savefig(r'D:\\3.2.png', dpi=300,bbox_inches='tight')\n",
    "plt.show()"
   ]
  },
  {
   "cell_type": "code",
   "execution_count": 34,
   "id": "52a66e48",
   "metadata": {},
   "outputs": [
    {
     "name": "stdout",
     "output_type": "stream",
     "text": [
      "              precision    recall  f1-score   support\n",
      "\n",
      "           0       0.99      0.95      0.97       152\n",
      "           1       0.98      1.00      0.99       391\n",
      "\n",
      "    accuracy                           0.98       543\n",
      "   macro avg       0.99      0.97      0.98       543\n",
      "weighted avg       0.98      0.98      0.98       543\n",
      "\n"
     ]
    }
   ],
   "source": [
    "ET = ExtraTreesClassifier(n_estimators = 50,max_depth = 19, random_state = 66)\n",
    "ET.fit(x_train,y_train)\n",
    "y_pre=ET.predict(x_test)\n",
    "res=classification_report(y_true=y_test,y_pred=y_pre,labels=(0,1)) \n",
    "print(res)"
   ]
  },
  {
   "cell_type": "code",
   "execution_count": 3,
   "id": "db722ea3",
   "metadata": {},
   "outputs": [
    {
     "data": {
      "image/png": "[encoded data removed]",
      "text/plain": [
       "<Figure size 432x288 with 2 Axes>"
      ]
     },
     "metadata": {
      "needs_background": "light"
     },
     "output_type": "display_data"
    }
   ],
   "source": [
    "confusion = np.array(([0.99,0.95,0.97],[0.98,1,0.99]))\n",
    "\n",
    "plt.imshow(confusion, cmap=plt.cm.BuPu_r,vmin=0.60,vmax=1)\n",
    "\n",
    "indices_x = range(3)\n",
    "indices_y=range(2)\n",
    "\n",
    "plt.xticks(indices_x, ['precision', 'recall', 'f1-score'])\n",
    "plt.yticks(indices_y, ['0', '1'])\n",
    "\n",
    "plt.colorbar()\n",
    "\n",
    "plt.xlabel('Measures')\n",
    "plt.ylabel('Classes')\n",
    "plt.title('Classification report_ET')\n",
    "\n",
    "\n",
    "for first_index in range(len(confusion)):    \n",
    "    for second_index in range(len(confusion[first_index])):    \n",
    "        plt.text(second_index,first_index,confusion[first_index][second_index])\n",
    "\n",
    "#plt.savefig(r'D:\\12.png', dpi=600,bbox_inches='tight')\n",
    "plt.show()"
   ]
  },
  {
   "cell_type": "code",
   "execution_count": 36,
   "id": "faa532df",
   "metadata": {},
   "outputs": [
    {
     "data": {
      "text/plain": [
       "0.9977789742899449"
      ]
     },
     "execution_count": 36,
     "metadata": {},
     "output_type": "execute_result"
    }
   ],
   "source": [
    "y_score_et = ET.fit(x_train, y_train).predict_proba(x_test)\n",
    "roc_auc_score(y_test,y_score_et[:, 1]) "
   ]
  },
  {
   "cell_type": "code",
   "execution_count": 37,
   "id": "acbd1dd6",
   "metadata": {},
   "outputs": [
    {
     "data": {
      "text/plain": [
       "0.9588032988182829"
      ]
     },
     "execution_count": 37,
     "metadata": {},
     "output_type": "execute_result"
    }
   ],
   "source": [
    "matthews_corrcoef(y_test,y_pre)"
   ]
  },
  {
   "cell_type": "code",
   "execution_count": null,
   "id": "236d18bd",
   "metadata": {},
   "outputs": [],
   "source": []
  },
  {
   "cell_type": "code",
   "execution_count": 39,
   "id": "33350513",
   "metadata": {},
   "outputs": [
    {
     "name": "stdout",
     "output_type": "stream",
     "text": [
      "              precision    recall  f1-score   support\n",
      "\n",
      "           0       0.99      0.93      0.96       152\n",
      "           1       0.97      1.00      0.99       391\n",
      "\n",
      "    accuracy                           0.98       543\n",
      "   macro avg       0.98      0.97      0.97       543\n",
      "weighted avg       0.98      0.98      0.98       543\n",
      "\n"
     ]
    }
   ],
   "source": [
    "ET = ExtraTreesClassifier(random_state = 66)\n",
    "ET.fit(x_train,y_train)\n",
    "y_pre=ET.predict(x_test)\n",
    "res=classification_report(y_true=y_test,y_pred=y_pre,labels=(0,1)) \n",
    "print(res)"
   ]
  },
  {
   "cell_type": "code",
   "execution_count": 40,
   "id": "f972fdda",
   "metadata": {},
   "outputs": [
    {
     "data": {
      "text/plain": [
       "0.9976191277426302"
      ]
     },
     "execution_count": 40,
     "metadata": {},
     "output_type": "execute_result"
    }
   ],
   "source": [
    "y_score_et = ET.fit(x_train, y_train).predict_proba(x_test)\n",
    "roc_auc_score(y_test,y_score_et[:, 1]) "
   ]
  },
  {
   "cell_type": "code",
   "execution_count": 41,
   "id": "b737a189",
   "metadata": {},
   "outputs": [
    {
     "data": {
      "text/plain": [
       "0.9496560436308986"
      ]
     },
     "execution_count": 41,
     "metadata": {},
     "output_type": "execute_result"
    }
   ],
   "source": [
    "matthews_corrcoef(y_test,y_pre)"
   ]
  },
  {
   "cell_type": "code",
   "execution_count": null,
   "id": "5b6fff1b",
   "metadata": {},
   "outputs": [],
   "source": []
  },
  {
   "cell_type": "code",
   "execution_count": null,
   "id": "3e75db87",
   "metadata": {},
   "outputs": [],
   "source": []
  },
  {
   "cell_type": "code",
   "execution_count": null,
   "id": "75ababad",
   "metadata": {},
   "outputs": [],
   "source": []
  },
  {
   "cell_type": "code",
   "execution_count": 42,
   "id": "f299556a",
   "metadata": {},
   "outputs": [],
   "source": [
    "feature_names = list(x.columns)\n",
    "\n",
    "RF = RandomForestClassifier(n_estimators = 100,max_depth = 17, random_state = 66)\n",
    "RF.fit(x_train,y_train)\n",
    "features_importances = RF.feature_importances_\n",
    "features_importance_pairs = [(feature_name, features_importance) for feature_name, features_importance in\n",
    "                             zip(feature_names, features_importances)] \n",
    "\n",
    "#features_importance_pairs = sorted(features_importance_pairs, key=lambda x: x[1], reverse=True)\n",
    "features_importance_name = [name[0] for name in features_importance_pairs[:]]\n",
    "features_importance_val = [name[1] for name in features_importance_pairs[:]]\n",
    "pd.DataFrame(features_importance_name).to_csv('name.csv')\n",
    "pd.DataFrame(features_importance_val).to_csv('RF_val.csv')"
   ]
  },
  {
   "cell_type": "code",
   "execution_count": 43,
   "id": "6cad9f2d",
   "metadata": {},
   "outputs": [],
   "source": [
    "\n",
    "ET = ExtraTreesClassifier(n_estimators = 50,max_depth = 19, random_state = 66)\n",
    "ET.fit(x_train,y_train)\n",
    "features_importances = ET.feature_importances_\n",
    "features_importance_pairs = [(feature_name, features_importance) for feature_name, features_importance in\n",
    "                             zip(feature_names, features_importances)] \n",
    "\n",
    "#features_importance_pairs = sorted(features_importance_pairs, key=lambda x: x[1], reverse=True)\n",
    "features_importance_name = [name[0] for name in features_importance_pairs[:]]\n",
    "features_importance_val = [name[1] for name in features_importance_pairs[:]]\n",
    "pd.DataFrame(features_importance_val).to_csv('ER_val.csv')"
   ]
  },
  {
   "cell_type": "code",
   "execution_count": null,
   "id": "2b005bc2",
   "metadata": {},
   "outputs": [],
   "source": []
  },
  {
   "cell_type": "code",
   "execution_count": null,
   "id": "f96fcd50",
   "metadata": {},
   "outputs": [],
   "source": []
  },
  {
   "cell_type": "code",
   "execution_count": null,
   "id": "77766d14",
   "metadata": {},
   "outputs": [],
   "source": []
  },
  {
   "cell_type": "code",
   "execution_count": 44,
   "id": "2467b74b",
   "metadata": {},
   "outputs": [
    {
     "name": "stdout",
     "output_type": "stream",
     "text": [
      "最优参数以及最高得分: [240.           0.87845304]\n"
     ]
    }
   ],
   "source": [
    "ScoreAll = []\n",
    "for i in range(100,300,10):\n",
    "    ADA=AdaBoostClassifier(n_estimators = i, random_state=66)\n",
    "    ADA.fit(x_train, y_train)\n",
    "    y_pre_ada=ADA.predict(x_test)\n",
    "    score=accuracy_score(y_test,y_pre_ada)\n",
    "    ScoreAll.append([i,score])\n",
    "ScoreAll = np.array(ScoreAll)\n",
    "\n",
    "max_score = np.where(ScoreAll==np.max(ScoreAll[:,1]))[0][0] \n",
    "print(\"最优参数以及最高得分:\",ScoreAll[max_score])"
   ]
  },
  {
   "cell_type": "code",
   "execution_count": 45,
   "id": "1526db76",
   "metadata": {},
   "outputs": [
    {
     "data": {
      "image/png": "[encoded data removed]",
      "text/plain": [
       "<Figure size 1440x360 with 1 Axes>"
      ]
     },
     "metadata": {
      "needs_background": "light"
     },
     "output_type": "display_data"
    }
   ],
   "source": [
    "import matplotlib.pyplot as plt\n",
    "plt.style.use('seaborn-colorblind')\n",
    "plt.figure(figsize=[20,5])\n",
    "plt.plot(ScoreAll[:,0],ScoreAll[:,1])\n",
    "#plt.savefig(r'D:\\6.1.png', dpi=300,bbox_inches='tight')\n",
    "plt.show()"
   ]
  },
  {
   "cell_type": "code",
   "execution_count": 47,
   "id": "c1f80f1a",
   "metadata": {},
   "outputs": [
    {
     "name": "stdout",
     "output_type": "stream",
     "text": [
      "              precision    recall  f1-score   support\n",
      "\n",
      "           0       0.85      0.69      0.76       152\n",
      "           1       0.89      0.95      0.92       391\n",
      "\n",
      "    accuracy                           0.88       543\n",
      "   macro avg       0.87      0.82      0.84       543\n",
      "weighted avg       0.88      0.88      0.87       543\n",
      "\n"
     ]
    }
   ],
   "source": [
    "ADA=AdaBoostClassifier(n_estimators = 240, random_state=66)\n",
    "ADA.fit(x_train,y_train)\n",
    "y_pre=ADA.predict(x_test)\n",
    "res=classification_report(y_true=y_test,y_pred=y_pre,labels=(0,1)) \n",
    "print(res)"
   ]
  },
  {
   "cell_type": "code",
   "execution_count": 4,
   "id": "82d4b970",
   "metadata": {},
   "outputs": [
    {
     "data": {
      "image/png": "[encoded data removed]",
      "text/plain": [
       "<Figure size 432x288 with 2 Axes>"
      ]
     },
     "metadata": {
      "needs_background": "light"
     },
     "output_type": "display_data"
    }
   ],
   "source": [
    "confusion = np.array(([0.85,0.69,0.76],[0.89,0.95,0.92]))\n",
    "\n",
    "plt.imshow(confusion, cmap=plt.cm.BuPu_r,vmin=0.6,vmax=1)\n",
    "\n",
    "indices_x = range(3)\n",
    "indices_y=range(2)\n",
    "\n",
    "plt.xticks(indices_x, ['precision', 'recall', 'f1-score'])\n",
    "plt.yticks(indices_y, ['0', '1'])\n",
    "\n",
    "plt.colorbar()\n",
    "\n",
    "plt.xlabel('Measures')\n",
    "plt.ylabel('Classes')\n",
    "plt.title('Classification report_ADA')\n",
    "\n",
    "\n",
    "for first_index in range(len(confusion)):    \n",
    "    for second_index in range(len(confusion[first_index])):    \n",
    "        plt.text(second_index,first_index,confusion[first_index][second_index])\n",
    "\n",
    "#plt.savefig(r'D:\\13.png', dpi=600,bbox_inches='tight')\n",
    "plt.show()"
   ]
  },
  {
   "cell_type": "code",
   "execution_count": 49,
   "id": "621f4b75",
   "metadata": {},
   "outputs": [
    {
     "data": {
      "text/plain": [
       "0.9317202853681518"
      ]
     },
     "execution_count": 49,
     "metadata": {},
     "output_type": "execute_result"
    }
   ],
   "source": [
    "y_score_ada = ADA.fit(x_train, y_train).predict_proba(x_test)\n",
    "roc_auc_score(y_test,y_score_ada[:, 1]) "
   ]
  },
  {
   "cell_type": "code",
   "execution_count": 50,
   "id": "0e75e4dd",
   "metadata": {},
   "outputs": [
    {
     "data": {
      "text/plain": [
       "0.6868469881186314"
      ]
     },
     "execution_count": 50,
     "metadata": {},
     "output_type": "execute_result"
    }
   ],
   "source": [
    "matthews_corrcoef(y_test,y_pre)"
   ]
  },
  {
   "cell_type": "code",
   "execution_count": null,
   "id": "a4b08a63",
   "metadata": {},
   "outputs": [],
   "source": []
  },
  {
   "cell_type": "code",
   "execution_count": 73,
   "id": "2f6a38d3",
   "metadata": {},
   "outputs": [
    {
     "name": "stdout",
     "output_type": "stream",
     "text": [
      "              precision    recall  f1-score   support\n",
      "\n",
      "           0       0.73      0.42      0.53       152\n",
      "           1       0.81      0.94      0.87       391\n",
      "\n",
      "    accuracy                           0.79       543\n",
      "   macro avg       0.77      0.68      0.70       543\n",
      "weighted avg       0.78      0.79      0.77       543\n",
      "\n"
     ]
    }
   ],
   "source": [
    "ADA=AdaBoostClassifier(random_state=66)\n",
    "ADA.fit(x_train,y_train)\n",
    "y_pre=ADA.predict(x_test)\n",
    "res=classification_report(y_true=y_test,y_pred=y_pre,labels=(0,1))\n",
    "print(res)"
   ]
  },
  {
   "cell_type": "code",
   "execution_count": 52,
   "id": "ae54c506",
   "metadata": {},
   "outputs": [
    {
     "data": {
      "text/plain": [
       "0.8412387266119262"
      ]
     },
     "execution_count": 52,
     "metadata": {},
     "output_type": "execute_result"
    }
   ],
   "source": [
    "y_score_ada = ADA.fit(x_train, y_train).predict_proba(x_test)\n",
    "roc_auc_score(y_test,y_score_ada[:, 1]) "
   ]
  },
  {
   "cell_type": "code",
   "execution_count": 53,
   "id": "9e81d94c",
   "metadata": {},
   "outputs": [
    {
     "data": {
      "text/plain": [
       "0.43819683227536876"
      ]
     },
     "execution_count": 53,
     "metadata": {},
     "output_type": "execute_result"
    }
   ],
   "source": [
    "matthews_corrcoef(y_test,y_pre)"
   ]
  },
  {
   "cell_type": "code",
   "execution_count": null,
   "id": "b11be35f",
   "metadata": {},
   "outputs": [],
   "source": []
  },
  {
   "cell_type": "code",
   "execution_count": null,
   "id": "3d823096",
   "metadata": {},
   "outputs": [],
   "source": []
  },
  {
   "cell_type": "code",
   "execution_count": null,
   "id": "aef2f160",
   "metadata": {},
   "outputs": [],
   "source": []
  },
  {
   "cell_type": "code",
   "execution_count": 54,
   "id": "873cb0ea",
   "metadata": {},
   "outputs": [
    {
     "name": "stdout",
     "output_type": "stream",
     "text": [
      "最优参数以及最高得分: [270.           0.92449355]\n"
     ]
    }
   ],
   "source": [
    "ScoreAll = []\n",
    "for i in range(100,300,10):\n",
    "    GBDT=GradientBoostingClassifier(n_estimators = i, random_state=66)\n",
    "    GBDT.fit(x_train, y_train)\n",
    "    y_pre_ada=GBDT.predict(x_test)\n",
    "    score=accuracy_score(y_test,y_pre_ada)\n",
    "    ScoreAll.append([i,score])\n",
    "ScoreAll = np.array(ScoreAll)\n",
    "\n",
    "max_score = np.where(ScoreAll==np.max(ScoreAll[:,1]))[0][0] \n",
    "print(\"最优参数以及最高得分:\",ScoreAll[max_score])"
   ]
  },
  {
   "cell_type": "code",
   "execution_count": 55,
   "id": "5dd2a620",
   "metadata": {},
   "outputs": [
    {
     "data": {
      "image/png": "[encoded data removed]",
      "text/plain": [
       "<Figure size 1440x360 with 1 Axes>"
      ]
     },
     "metadata": {
      "needs_background": "light"
     },
     "output_type": "display_data"
    }
   ],
   "source": [
    "plt.style.use('seaborn-colorblind')\n",
    "plt.figure(figsize=[20,5])\n",
    "plt.plot(ScoreAll[:,0],ScoreAll[:,1])\n",
    "#plt.savefig(r'D:\\7.1.png', dpi=300,bbox_inches='tight')\n",
    "plt.show()"
   ]
  },
  {
   "cell_type": "code",
   "execution_count": 56,
   "id": "f99bed76",
   "metadata": {},
   "outputs": [
    {
     "name": "stdout",
     "output_type": "stream",
     "text": [
      "最优参数以及最高得分: [7.         0.91896869]\n"
     ]
    }
   ],
   "source": [
    "ScoreAll = []\n",
    "for i in range(1,10):\n",
    "    GBDT=GradientBoostingClassifier(n_estimators = 270, random_state=66,subsample=i/10)\n",
    "    GBDT.fit(x_train, y_train)\n",
    "    y_pre_ada=GBDT.predict(x_test)\n",
    "    score=accuracy_score(y_test,y_pre_ada)\n",
    "    ScoreAll.append([i,score])\n",
    "ScoreAll = np.array(ScoreAll)\n",
    "\n",
    "max_score = np.where(ScoreAll==np.max(ScoreAll[:,1]))[0][0]\n",
    "print(\"最优参数以及最高得分:\",ScoreAll[max_score])"
   ]
  },
  {
   "cell_type": "code",
   "execution_count": 57,
   "id": "ac81df38",
   "metadata": {},
   "outputs": [
    {
     "data": {
      "image/png": "[encoded data removed]",
      "text/plain": [
       "<Figure size 1440x360 with 1 Axes>"
      ]
     },
     "metadata": {
      "needs_background": "light"
     },
     "output_type": "display_data"
    }
   ],
   "source": [
    "plt.style.use('seaborn-colorblind')\n",
    "plt.figure(figsize=[20,5])\n",
    "plt.plot(ScoreAll[:,0],ScoreAll[:,1])\n",
    "#plt.savefig(r'D:\\7.2.png', dpi=300,bbox_inches='tight')\n",
    "plt.show()"
   ]
  },
  {
   "cell_type": "code",
   "execution_count": 63,
   "id": "a745871f",
   "metadata": {},
   "outputs": [
    {
     "name": "stdout",
     "output_type": "stream",
     "text": [
      "              precision    recall  f1-score   support\n",
      "\n",
      "           0       0.94      0.76      0.84       152\n",
      "           1       0.91      0.98      0.95       391\n",
      "\n",
      "    accuracy                           0.92       543\n",
      "   macro avg       0.92      0.87      0.89       543\n",
      "weighted avg       0.92      0.92      0.92       543\n",
      "\n"
     ]
    }
   ],
   "source": [
    "GBDT=GradientBoostingClassifier(n_estimators = 270, subsample=0.7, random_state=66)\n",
    "GBDT.fit(x_train,y_train)\n",
    "y_pre=GBDT.predict(x_test)\n",
    "res=classification_report(y_true=y_test,y_pred=y_pre,labels=(0,1))\n",
    "print(res)"
   ]
  },
  {
   "cell_type": "code",
   "execution_count": 5,
   "id": "f3c8b813",
   "metadata": {},
   "outputs": [
    {
     "data": {
      "image/png": "[encoded data removed]",
      "text/plain": [
       "<Figure size 432x288 with 2 Axes>"
      ]
     },
     "metadata": {
      "needs_background": "light"
     },
     "output_type": "display_data"
    }
   ],
   "source": [
    "confusion = np.array(([0.94,0.76,0.84],[0.91,0.98,0.95]))\n",
    "\n",
    "plt.imshow(confusion, cmap=plt.cm.BuPu_r,vmin=0.60,vmax=1)\n",
    "\n",
    "indices_x = range(3)\n",
    "indices_y=range(2)\n",
    "\n",
    "plt.xticks(indices_x, ['precision', 'recall', 'f1-score'])\n",
    "plt.yticks(indices_y, ['0', '1'])\n",
    "\n",
    "plt.colorbar()\n",
    "\n",
    "plt.xlabel('Measures')\n",
    "plt.ylabel('Classes')\n",
    "plt.title('Classification report_GBDT')\n",
    "\n",
    "\n",
    "for first_index in range(len(confusion)):    \n",
    "    for second_index in range(len(confusion[first_index])):    \n",
    "        plt.text(second_index,first_index,confusion[first_index][second_index])\n",
    "\n",
    "#plt.savefig(r'D:\\14.png', dpi=600,bbox_inches='tight')\n",
    "plt.show()"
   ]
  },
  {
   "cell_type": "code",
   "execution_count": 65,
   "id": "05c27a4b",
   "metadata": {},
   "outputs": [
    {
     "data": {
      "text/plain": [
       "0.9698983712478125"
      ]
     },
     "execution_count": 65,
     "metadata": {},
     "output_type": "execute_result"
    }
   ],
   "source": [
    "y_score_gbdt = GBDT.fit(x_train, y_train).predict_proba(x_test)\n",
    "roc_auc_score(y_test,y_score_gbdt[:, 1]) "
   ]
  },
  {
   "cell_type": "code",
   "execution_count": 66,
   "id": "c29ef94c",
   "metadata": {},
   "outputs": [
    {
     "data": {
      "text/plain": [
       "0.7943361033237193"
      ]
     },
     "execution_count": 66,
     "metadata": {},
     "output_type": "execute_result"
    }
   ],
   "source": [
    "matthews_corrcoef(y_test,y_pre)"
   ]
  },
  {
   "cell_type": "code",
   "execution_count": null,
   "id": "2d929fce",
   "metadata": {},
   "outputs": [],
   "source": []
  },
  {
   "cell_type": "code",
   "execution_count": 62,
   "id": "629fbe47",
   "metadata": {},
   "outputs": [
    {
     "name": "stdout",
     "output_type": "stream",
     "text": [
      "              precision    recall  f1-score   support\n",
      "\n",
      "           0       0.88      0.63      0.74       152\n",
      "           1       0.87      0.97      0.92       391\n",
      "\n",
      "    accuracy                           0.87       543\n",
      "   macro avg       0.88      0.80      0.83       543\n",
      "weighted avg       0.87      0.87      0.87       543\n",
      "\n"
     ]
    }
   ],
   "source": [
    "GBDT=GradientBoostingClassifier(random_state=66)\n",
    "GBDT.fit(x_train,y_train)\n",
    "y_pre=GBDT.predict(x_test)\n",
    "res=classification_report(y_true=y_test,y_pred=y_pre,labels=(0,1))\n",
    "print(res)"
   ]
  },
  {
   "cell_type": "code",
   "execution_count": 60,
   "id": "3425c356",
   "metadata": {},
   "outputs": [
    {
     "data": {
      "text/plain": [
       "0.9484116300982636"
      ]
     },
     "execution_count": 60,
     "metadata": {},
     "output_type": "execute_result"
    }
   ],
   "source": [
    "y_score_gbdt = GBDT.fit(x_train, y_train).predict_proba(x_test)\n",
    "roc_auc_score(y_test,y_score_gbdt[:, 1])"
   ]
  },
  {
   "cell_type": "code",
   "execution_count": 61,
   "id": "68b32a9e",
   "metadata": {},
   "outputs": [
    {
     "data": {
      "text/plain": [
       "0.670646196540888"
      ]
     },
     "execution_count": 61,
     "metadata": {},
     "output_type": "execute_result"
    }
   ],
   "source": [
    "matthews_corrcoef(y_test,y_pre)"
   ]
  },
  {
   "cell_type": "code",
   "execution_count": null,
   "id": "97b362b7",
   "metadata": {},
   "outputs": [],
   "source": []
  },
  {
   "cell_type": "code",
   "execution_count": null,
   "id": "3caced0f",
   "metadata": {},
   "outputs": [],
   "source": []
  },
  {
   "cell_type": "code",
   "execution_count": null,
   "id": "69fc3635",
   "metadata": {},
   "outputs": [],
   "source": []
  },
  {
   "cell_type": "code",
   "execution_count": 67,
   "id": "ee9d93e6",
   "metadata": {},
   "outputs": [],
   "source": [
    "feature_names = list(x.columns)\n",
    "\n",
    "ADA = AdaBoostClassifier(n_estimators = 240, random_state = 66)\n",
    "ADA.fit(x_train,y_train)\n",
    "features_importances = ADA.feature_importances_\n",
    "features_importance_pairs = [(feature_name, features_importance) for feature_name, features_importance in\n",
    "                             zip(feature_names, features_importances)] \n",
    "\n",
    "#features_importance_pairs = sorted(features_importance_pairs, key=lambda x: x[1], reverse=True)\n",
    "features_importance_name = [name[0] for name in features_importance_pairs[:]]\n",
    "features_importance_val = [name[1] for name in features_importance_pairs[:]]\n",
    "pd.DataFrame(features_importance_val).to_csv('ADA_val.csv')"
   ]
  },
  {
   "cell_type": "code",
   "execution_count": 68,
   "id": "be9da899",
   "metadata": {},
   "outputs": [],
   "source": [
    "feature_names = list(x.columns)\n",
    "\n",
    "GBDT = GradientBoostingClassifier(n_estimators = 270, subsample=0.7, random_state = 66)\n",
    "GBDT.fit(x_train,y_train)\n",
    "features_importances = GBDT.feature_importances_\n",
    "features_importance_pairs = [(feature_name, features_importance) for feature_name, features_importance in\n",
    "                             zip(feature_names, features_importances)] \n",
    "\n",
    "#features_importance_pairs = sorted(features_importance_pairs, key=lambda x: x[1], reverse=True)\n",
    "features_importance_name = [name[0] for name in features_importance_pairs[:]]\n",
    "features_importance_val = [name[1] for name in features_importance_pairs[:]]\n",
    "pd.DataFrame(features_importance_val).to_csv('GBDT_val.csv')"
   ]
  },
  {
   "cell_type": "code",
   "execution_count": null,
   "id": "63fa2b11",
   "metadata": {},
   "outputs": [],
   "source": []
  },
  {
   "cell_type": "code",
   "execution_count": null,
   "id": "da80da96",
   "metadata": {},
   "outputs": [],
   "source": []
  },
  {
   "cell_type": "code",
   "execution_count": null,
   "id": "9b17002d",
   "metadata": {},
   "outputs": [],
   "source": []
  },
  {
   "cell_type": "code",
   "execution_count": 72,
   "id": "efc4e6ae",
   "metadata": {},
   "outputs": [
    {
     "data": {
      "image/png": "[encoded data removed]",
      "text/plain": [
       "<Figure size 720x360 with 1 Axes>"
      ]
     },
     "metadata": {},
     "output_type": "display_data"
    }
   ],
   "source": [
    "from sklearn.metrics import roc_curve,auc\n",
    "\n",
    "FPR_rf,Recall_rf,thresholds=roc_curve(y_test,y_score_rf[:, 1])\n",
    "roc_auc_rf = auc(FPR_rf, Recall_rf)\n",
    "\n",
    "FPR_et,Recall_et,thresholds=roc_curve(y_test,y_score_et[:, 1]) \n",
    "roc_auc_et = auc(FPR_et, Recall_et)\n",
    "\n",
    "FPR_ada,Recall_ada,thresholds=roc_curve(y_test,y_score_ada[:, 1]) \n",
    "roc_auc_ada = auc(FPR_ada, Recall_ada)\n",
    "\n",
    "FPR_gbdt,Recall_gbdt,thresholds=roc_curve(y_test,y_score_gbdt[:, 1]) \n",
    "roc_auc_gbdt = auc(FPR_gbdt, Recall_gbdt)\n",
    "\n",
    "plt.figure(figsize=(10,5))\n",
    "plt.style.use('seaborn-colorblind')\n",
    "\n",
    "plt.plot(FPR_rf,Recall_rf,c='r',label='RF(AUC=%0.3f)'%roc_auc_rf) \n",
    "plt.plot(FPR_et,Recall_et,c='g',label='ET(AUC=%0.3f)'%roc_auc_et) \n",
    "plt.plot(FPR_ada,Recall_ada,c='b',label='ADA(AUC=%0.3f)'%roc_auc_ada)\n",
    "plt.plot(FPR_gbdt,Recall_gbdt,c='y',label='GBDT(AUC=%0.3f)'%roc_auc_gbdt)\n",
    "plt.plot([0,1],[0,1],c='black',linestyle='--') \n",
    "\n",
    "plt.xlim([-0.05, 1.05])\n",
    "plt.ylim([-0.05, 1.05])\n",
    "\n",
    "plt.xlabel('False Positive Rate')\n",
    "plt.ylabel('Recall')\n",
    "\n",
    "plt.legend(loc='lower right')\n",
    "#plt.savefig(r'D:\\10.png', dpi=300)\n",
    "plt.show()"
   ]
  },
  {
   "cell_type": "code",
   "execution_count": null,
   "id": "469a7ae0",
   "metadata": {},
   "outputs": [],
   "source": []
  },
  {
   "cell_type": "code",
   "execution_count": null,
   "id": "b20f29d6",
   "metadata": {},
   "outputs": [],
   "source": []
  },
  {
   "cell_type": "code",
   "execution_count": null,
   "id": "d5ececdd",
   "metadata": {},
   "outputs": [],
   "source": []
  },
  {
   "cell_type": "code",
   "execution_count": 2,
   "id": "620c3780",
   "metadata": {},
   "outputs": [],
   "source": [
    "import pandas as pd\n",
    "from sklearn.model_selection import train_test_split\n",
    "data=pd.read_csv('SG.csv')\n",
    "data.dropna(axis=1,inplace=True)\n",
    "x=data.drop(['Rating'],axis=1)\n",
    "y=data['Rating']\n",
    "x_train,x_test,y_train,y_test=train_test_split(x,y,test_size=0.25,random_state=66)\n",
    "#Dataframe1=pd.concat([x_test,y_test],axis=1)\n",
    "#Dataframe1.to_csv('test_1.csv',index=0)"
   ]
  },
  {
   "cell_type": "code",
   "execution_count": 8,
   "id": "e4d87e15",
   "metadata": {},
   "outputs": [
    {
     "data": {
      "text/plain": [
       "array([0, 0, 0, 0, 0, 0, 0, 1, 1, 0, 1], dtype=int64)"
      ]
     },
     "execution_count": 8,
     "metadata": {},
     "output_type": "execute_result"
    }
   ],
   "source": [
    "from sklearn.ensemble import RandomForestClassifier,AdaBoostClassifier,GradientBoostingClassifier,ExtraTreesClassifier\n",
    "from sklearn.metrics import accuracy_score\n",
    "EXC=ExtraTreesClassifier(n_estimators = 50,max_depth = 19,random_state=66)\n",
    "EXC.fit(x_train, y_train)\n",
    "data=pd.read_csv('2022.csv')\n",
    "data.dropna(axis=1,inplace=True)\n",
    "y_pre_exc=EXC.predict(data)\n",
    "y_pre_exc"
   ]
  }
 ],
 "metadata": {
  "kernelspec": {
   "display_name": "Python 3",
   "language": "python",
   "name": "python3"
  },
  "language_info": {
   "codemirror_mode": {
    "name": "ipython",
    "version": 3
   },
   "file_extension": ".py",
   "mimetype": "text/x-python",
   "name": "python",
   "nbconvert_exporter": "python",
   "pygments_lexer": "ipython3",
   "version": "3.7.0"
  },
  "toc": {
   "base_numbering": 1,
   "nav_menu": {},
   "number_sections": true,
   "sideBar": true,
   "skip_h1_title": false,
   "title_cell": "Table of Contents",
   "title_sidebar": "Contents",
   "toc_cell": false,
   "toc_position": {},
   "toc_section_display": true,
   "toc_window_display": false
  }
 },
 "nbformat": 4,
 "nbformat_minor": 5
}
